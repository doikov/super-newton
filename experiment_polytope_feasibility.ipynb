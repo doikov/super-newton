{
 "cells": [
  {
   "cell_type": "code",
   "execution_count": 1,
   "metadata": {},
   "outputs": [],
   "source": [
    "import matplotlib.pyplot as plt\n",
    "import numpy as np\n",
    "from numpy.linalg import norm\n",
    "\n",
    "%reload_ext autoreload\n",
    "%autoreload 2\n",
    "%matplotlib inline"
   ]
  },
  {
   "cell_type": "code",
   "execution_count": 2,
   "metadata": {},
   "outputs": [],
   "source": [
    "from methods import *\n",
    "from oracles import PolytopeFeasibility\n",
    "from utils import plot_graphs"
   ]
  },
  {
   "cell_type": "markdown",
   "metadata": {},
   "source": [
    "# Polytope Feasibility Problem"
   ]
  },
  {
   "cell_type": "markdown",
   "metadata": {},
   "source": [
    "$$\n",
    "\\min\\limits_{x \\in \\mathbb{R}^n} f(x) \n",
    "= \\sum\\limits_{i = 1}^m \\bigl( \\langle a_i, x \\rangle - b_i \\bigr)_{+}^p,$$\n",
    "where\n",
    "$(t)_+ \\overset{\\text{def}}{=} \\max\\{0, t\\}$ is positive slicing, $p \\geq 2$ is a parameter;\n",
    "$a_1, \\ldots, a_m \\in \\mathbb{R}^n$ and $b \\in \\mathbb{R}^m$ are given data. "
   ]
  },
  {
   "cell_type": "markdown",
   "metadata": {},
   "source": [
    "### Parameters"
   ]
  },
  {
   "cell_type": "code",
   "execution_count": 3,
   "metadata": {},
   "outputs": [],
   "source": [
    "n = 100 # Dimension\n",
    "m = 200 # Number of linear inequalities\n",
    "p = 3 # Smoothing parameter"
   ]
  },
  {
   "cell_type": "markdown",
   "metadata": {},
   "source": [
    "### Generate random problem"
   ]
  },
  {
   "cell_type": "code",
   "execution_count": 4,
   "metadata": {},
   "outputs": [],
   "source": [
    "np.random.seed(3124)\n",
    "\n",
    "A = np.random.rand(m, n) * 2 - 1\n",
    "b = np.random.rand(m) * 2 - 1\n",
    "oracle = PolytopeFeasibility(A, b, p)\n",
    "\n",
    "x_0 = np.ones(n) # Initial point"
   ]
  },
  {
   "cell_type": "markdown",
   "metadata": {},
   "source": [
    "# Run Methods"
   ]
  },
  {
   "cell_type": "markdown",
   "metadata": {},
   "source": [
    "### Gradient Method"
   ]
  },
  {
   "cell_type": "code",
   "execution_count": 5,
   "metadata": {},
   "outputs": [
    {
     "name": "stdout",
     "output_type": "stream",
     "text": [
      "Time: 0.398 s\n"
     ]
    }
   ],
   "source": [
    "_, msg, history_GM = gradient_method(oracle, x_0, \n",
    "                                     max_iter=4000, \n",
    "                                     L_0=1.0, \n",
    "                                     line_search=True)\n",
    "print('Time: %.3f s' % history_GM['time'][-1])"
   ]
  },
  {
   "cell_type": "markdown",
   "metadata": {},
   "source": [
    "### Fast Gradient Method"
   ]
  },
  {
   "cell_type": "code",
   "execution_count": 6,
   "metadata": {},
   "outputs": [
    {
     "name": "stdout",
     "output_type": "stream",
     "text": [
      "Time: 0.517 s\n"
     ]
    }
   ],
   "source": [
    "_, msg, history_FGM = fast_gradient_method(oracle, x_0, \n",
    "                                           max_iter=2000, \n",
    "                                           L_0=1.0, \n",
    "                                           line_search=True)\n",
    "print('Time: %.3f s' % history_FGM['time'][-1])"
   ]
  },
  {
   "cell_type": "markdown",
   "metadata": {},
   "source": [
    "### Super-Universal Newton, $\\alpha = 1$"
   ]
  },
  {
   "cell_type": "code",
   "execution_count": 7,
   "metadata": {},
   "outputs": [
    {
     "name": "stdout",
     "output_type": "stream",
     "text": [
      "Time: 0.320 s\n"
     ]
    }
   ],
   "source": [
    "_, msg, history_super_newton_1 = super_newton(oracle, x_0, \n",
    "                                              n_iters=500, \n",
    "                                              H_0=1.0,\n",
    "                                              adaptive_search=True, \n",
    "                                              alpha=1.0)\n",
    "print('Time: %.3f s' % history_super_newton_1['time'][-1])"
   ]
  },
  {
   "cell_type": "markdown",
   "metadata": {},
   "source": [
    "### Super-Universal Newton, $\\alpha = \\frac{2}{3}$"
   ]
  },
  {
   "cell_type": "code",
   "execution_count": 8,
   "metadata": {},
   "outputs": [
    {
     "name": "stdout",
     "output_type": "stream",
     "text": [
      "Time: 0.340 s\n"
     ]
    }
   ],
   "source": [
    "_, msg, history_super_newton_23 = super_newton(oracle, x_0, \n",
    "                                               n_iters=500, \n",
    "                                               H_0=1.0,\n",
    "                                               adaptive_search=True, \n",
    "                                               alpha=2.0 / 3.0)\n",
    "print('Time: %.3f s' % history_super_newton_23['time'][-1])"
   ]
  },
  {
   "cell_type": "markdown",
   "metadata": {},
   "source": [
    "### Cubic Newton"
   ]
  },
  {
   "cell_type": "code",
   "execution_count": 9,
   "metadata": {},
   "outputs": [
    {
     "name": "stdout",
     "output_type": "stream",
     "text": [
      "Time: 0.348 s\n"
     ]
    }
   ],
   "source": [
    "_, msg, history_cubic_newton = cubic_newton(oracle, x_0, \n",
    "                                            n_iters=100, \n",
    "                                            H_0=1.0,\n",
    "                                            adaptive_search=True)\n",
    "print('Time: %.3f s' % history_cubic_newton['time'][-1])"
   ]
  },
  {
   "cell_type": "markdown",
   "metadata": {},
   "source": [
    "# Show Results"
   ]
  },
  {
   "cell_type": "code",
   "execution_count": 10,
   "metadata": {},
   "outputs": [
    {
     "data": {
      "image/png": "[encoded data removed]",
      "text/plain": [
       "<Figure size 576x288 with 2 Axes>"
      ]
     },
     "metadata": {
      "needs_background": "light"
     },
     "output_type": "display_data"
    }
   ],
   "source": [
    "mn_func = min(np.min(history_GM['func']), \n",
    "              np.min(history_FGM['func']), \n",
    "              np.min(history_cubic_newton['func']),\n",
    "              np.min(history_super_newton_1['func']),\n",
    "              np.min(history_super_newton_23['func']))\n",
    "\n",
    "plot_graphs([history_GM,  history_FGM, history_cubic_newton, \n",
    "             history_super_newton_23, history_super_newton_1], \n",
    "            ['GM', 'FGM', 'Cubic', r\"Super-Univ, $2/3$\", r\"Super-Univ, $1$\"],\n",
    "            colors=['tab:blue', 'blue', 'tab:green', 'black', 'red'],\n",
    "            linewidths=[2, 2, 3, 3, 2],\n",
    "            linestyles=['-.', '--', '-.', '--', '-'],\n",
    "            n=n, m=m, mu_str=(\"0.5\"),\n",
    "            f_star=mn_func,\n",
    "            threshold=1e-10,\n",
    "            suptitle=(\"Polytope Feasibility, n = %d, m = %d, p = %d\" % (n, m, p)), \n",
    "            max_iter=1000)"
   ]
  }
 ],
 "metadata": {
  "kernelspec": {
   "display_name": "Python 3",
   "language": "python",
   "name": "python3"
  },
  "language_info": {
   "codemirror_mode": {
    "name": "ipython",
    "version": 3
   },
   "file_extension": ".py",
   "mimetype": "text/x-python",
   "name": "python",
   "nbconvert_exporter": "python",
   "pygments_lexer": "ipython3",
   "version": "3.7.1"
  }
 },
 "nbformat": 4,
 "nbformat_minor": 2
}
