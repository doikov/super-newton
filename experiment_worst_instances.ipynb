{
 "cells": [
  {
   "cell_type": "code",
   "execution_count": 1,
   "metadata": {},
   "outputs": [],
   "source": [
    "import math\n",
    "import matplotlib.pyplot as plt\n",
    "import numpy as np\n",
    "from numpy.linalg import norm\n",
    "\n",
    "%reload_ext autoreload\n",
    "%autoreload 2\n",
    "%matplotlib inline"
   ]
  },
  {
   "cell_type": "code",
   "execution_count": 2,
   "metadata": {},
   "outputs": [],
   "source": [
    "from methods import super_newton\n",
    "from oracles import PDifferenceOracle"
   ]
  },
  {
   "cell_type": "markdown",
   "metadata": {},
   "source": [
    "# Worst Instances"
   ]
  },
  {
   "cell_type": "markdown",
   "metadata": {},
   "source": [
    "$$\n",
    "\\min\\limits_{x \\in \\mathbb{R}^n} f(x)\n",
    "= \\frac{1}{q} \\sum\\limits_{i = 1}^{n - 1} | x^{(i)} - x^{(i + 1)} |^q\n",
    "+ \\frac{1}{q}|x^{(n)}|^q\n",
    "$$"
   ]
  },
  {
   "cell_type": "markdown",
   "metadata": {},
   "source": [
    "### Parameters"
   ]
  },
  {
   "cell_type": "code",
   "execution_count": 3,
   "metadata": {},
   "outputs": [],
   "source": [
    "n = 500 # Dimension\n",
    "q = 3 # Power"
   ]
  },
  {
   "cell_type": "markdown",
   "metadata": {},
   "source": [
    "### Generate problem"
   ]
  },
  {
   "cell_type": "code",
   "execution_count": 4,
   "metadata": {},
   "outputs": [],
   "source": [
    "oracle = PDifferenceOracle(q - 1, n)\n",
    "\n",
    "x_0 = np.ones(n)\n",
    "x_star = np.zeros(n)\n",
    "mn_func = oracle.func(x_star)\n",
    "M_q = 2 ** (q - 1) * math.factorial(q - 1) # Lipschitz constant"
   ]
  },
  {
   "cell_type": "markdown",
   "metadata": {},
   "source": [
    "# Run Methods"
   ]
  },
  {
   "cell_type": "markdown",
   "metadata": {},
   "source": [
    "### Newton Method with Gradient Regularization ($H_k := (6M_q)^{\\frac{1}{q - 1}}$ is fixed), $\\alpha = \\frac{q - 2}{q - 1}$"
   ]
  },
  {
   "cell_type": "code",
   "execution_count": 5,
   "metadata": {},
   "outputs": [
    {
     "name": "stdout",
     "output_type": "stream",
     "text": [
      "Time: 5.612 s\n"
     ]
    }
   ],
   "source": [
    "_, msg, history_SN_fixed = super_newton(oracle, x_0, \n",
    "                                        n_iters=1300, \n",
    "                                        H_0=(6 * M_q) ** (1.0 / (q - 1)),\n",
    "                                        alpha=(q - 2.0) / (q - 1),\n",
    "                                        adaptive_search=False)\n",
    "print('Time: %.3f s' % history_SN_fixed['time'][-1])"
   ]
  },
  {
   "cell_type": "markdown",
   "metadata": {},
   "source": [
    "### Super-Universal Newton, $\\alpha = \\frac{q - 2}{q - 1}$"
   ]
  },
  {
   "cell_type": "code",
   "execution_count": 6,
   "metadata": {},
   "outputs": [
    {
     "name": "stdout",
     "output_type": "stream",
     "text": [
      "Time: 4.108 s\n"
     ]
    }
   ],
   "source": [
    "_, msg, history_SN_adaptive = super_newton(oracle, x_0, \n",
    "                                           n_iters=510, \n",
    "                                           H_0=(6 * M_q) ** (1.0 / (q - 1)),\n",
    "                                           alpha=(q - 2.0) / (q - 1),\n",
    "                                           adaptive_search=True)\n",
    "print('Time: %.3f s' % history_SN_adaptive['time'][-1])"
   ]
  },
  {
   "cell_type": "markdown",
   "metadata": {},
   "source": [
    "### Super-Universal Newton, $\\alpha = 1$"
   ]
  },
  {
   "cell_type": "code",
   "execution_count": 7,
   "metadata": {},
   "outputs": [
    {
     "name": "stdout",
     "output_type": "stream",
     "text": [
      "Time: 4.191 s\n"
     ]
    }
   ],
   "source": [
    "_, msg, history_SN_adaptive_1 = super_newton(oracle, x_0, \n",
    "                                             n_iters=510, \n",
    "                                             H_0=(6 * M_q) ** (1.0 / (q - 1)),\n",
    "                                             alpha=1.0,\n",
    "                                             adaptive_search=True)\n",
    "print('Time: %.3f s' % history_SN_adaptive_1['time'][-1])"
   ]
  },
  {
   "cell_type": "markdown",
   "metadata": {},
   "source": [
    "# Show Results"
   ]
  },
  {
   "cell_type": "code",
   "execution_count": 8,
   "metadata": {},
   "outputs": [
    {
     "data": {
      "image/png": "[encoded data removed]",
      "text/plain": [
       "<Figure size 432x360 with 1 Axes>"
      ]
     },
     "metadata": {
      "needs_background": "light"
     },
     "output_type": "display_data"
    }
   ],
   "source": [
    "plt.figure(figsize=(6, 5))\n",
    "plt.semilogy(np.array(history_SN_fixed['func'][0:1200]) - mn_func, '-.', \n",
    "             color='tab:green', label=r\"Fixed, $\\alpha = %.f/%.f$\" % (q - 2, q - 1), \n",
    "             linewidth=3)\n",
    "\n",
    "plt.semilogy(np.array(history_SN_adaptive['func']) - mn_func, '--', linewidth=3,\n",
    "             color='black', label=r\"Super-Univ, $\\alpha = %.f/%.f$\" % (q - 2, q - 1))\n",
    "\n",
    "plt.semilogy(np.array(history_SN_adaptive_1['func']) - mn_func, color='red', \n",
    "             label=r\"Super-Univ, $\\alpha = 1$\", linewidth=2)\n",
    "\n",
    "plt.legend(fontsize=12)\n",
    "plt.xlabel('Iterations', fontsize=14)\n",
    "plt.ylabel('Func. residual', fontsize=14)\n",
    "plt.title((r\"$q = %d, \\; n = %d$\" % (q, n)), \n",
    "          fontsize=16)\n",
    "plt.grid()\n",
    "plt.tight_layout()"
   ]
  }
 ],
 "metadata": {
  "kernelspec": {
   "display_name": "Python 3",
   "language": "python",
   "name": "python3"
  },
  "language_info": {
   "codemirror_mode": {
    "name": "ipython",
    "version": 3
   },
   "file_extension": ".py",
   "mimetype": "text/x-python",
   "name": "python",
   "nbconvert_exporter": "python",
   "pygments_lexer": "ipython3",
   "version": "3.7.1"
  }
 },
 "nbformat": 4,
 "nbformat_minor": 2
}
